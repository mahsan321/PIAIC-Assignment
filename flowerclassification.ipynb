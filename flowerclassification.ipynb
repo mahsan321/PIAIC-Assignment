{
 "cells": [
  {
   "cell_type": "code",
   "execution_count": 2,
   "metadata": {
    "id": "MHeMvFpkR-Oe"
   },
   "outputs": [],
   "source": [
    "import numpy as np\n",
    "import pandas as pd\n",
    "import tensorflow as tf\n",
    "from tensorflow.keras import models\n",
    "from tensorflow.keras import layers\n",
    "from tensorflow.keras.preprocessing.image import ImageDataGenerator\n",
    "from tensorflow.keras.models import Sequential\n",
    "from tensorflow.keras.layers import Dense, Flatten\n",
    "from tensorflow.keras.optimizers import RMSprop\n"
   ]
  },
  {
   "cell_type": "code",
   "execution_count": 3,
   "metadata": {
    "colab": {
     "base_uri": "https://localhost:8080/"
    },
    "id": "gu8R1NyOv9Gv",
    "outputId": "eee64db3-0aef-45da-892f-9f6831bc7817"
   },
   "outputs": [
    {
     "ename": "OSError",
     "evalue": "[WinError 123] The filename, directory name, or volume label syntax is incorrect: 'F:\\x0clowers'",
     "output_type": "error",
     "traceback": [
      "\u001b[1;31m---------------------------------------------------------------------------\u001b[0m",
      "\u001b[1;31mOSError\u001b[0m                                   Traceback (most recent call last)",
      "\u001b[1;32m<ipython-input-3-3dd33747b728>\u001b[0m in \u001b[0;36m<module>\u001b[1;34m\u001b[0m\n\u001b[0;32m      6\u001b[0m         \u001b[0mhorizontal_flip\u001b[0m\u001b[1;33m=\u001b[0m\u001b[1;32mTrue\u001b[0m\u001b[1;33m,\u001b[0m\u001b[1;33m\u001b[0m\u001b[1;33m\u001b[0m\u001b[0m\n\u001b[0;32m      7\u001b[0m         )\n\u001b[1;32m----> 8\u001b[1;33m train_generator = train_datagen.flow_from_directory(\n\u001b[0m\u001b[0;32m      9\u001b[0m         \u001b[1;34m'F:\\flowers'\u001b[0m\u001b[1;33m,\u001b[0m\u001b[1;33m\u001b[0m\u001b[1;33m\u001b[0m\u001b[0m\n\u001b[0;32m     10\u001b[0m         \u001b[0mtarget_size\u001b[0m\u001b[1;33m=\u001b[0m\u001b[1;33m(\u001b[0m\u001b[1;36m150\u001b[0m\u001b[1;33m,\u001b[0m \u001b[1;36m150\u001b[0m\u001b[1;33m)\u001b[0m\u001b[1;33m,\u001b[0m\u001b[1;33m\u001b[0m\u001b[1;33m\u001b[0m\u001b[0m\n",
      "\u001b[1;32m~\\.conda\\envs\\tf-gpu\\lib\\site-packages\\tensorflow\\python\\keras\\preprocessing\\image.py\u001b[0m in \u001b[0;36mflow_from_directory\u001b[1;34m(self, directory, target_size, color_mode, classes, class_mode, batch_size, shuffle, seed, save_to_dir, save_prefix, save_format, follow_links, subset, interpolation)\u001b[0m\n\u001b[0;32m    941\u001b[0m             \u001b[1;32mand\u001b[0m\u001b[0;31m \u001b[0m\u001b[0;31m`\u001b[0m\u001b[0my\u001b[0m\u001b[0;31m`\u001b[0m \u001b[1;32mis\u001b[0m \u001b[0ma\u001b[0m \u001b[0mnumpy\u001b[0m \u001b[0marray\u001b[0m \u001b[0mof\u001b[0m \u001b[0mcorresponding\u001b[0m \u001b[0mlabels\u001b[0m\u001b[1;33m.\u001b[0m\u001b[1;33m\u001b[0m\u001b[1;33m\u001b[0m\u001b[0m\n\u001b[0;32m    942\u001b[0m     \"\"\"\n\u001b[1;32m--> 943\u001b[1;33m     return DirectoryIterator(\n\u001b[0m\u001b[0;32m    944\u001b[0m         \u001b[0mdirectory\u001b[0m\u001b[1;33m,\u001b[0m\u001b[1;33m\u001b[0m\u001b[1;33m\u001b[0m\u001b[0m\n\u001b[0;32m    945\u001b[0m         \u001b[0mself\u001b[0m\u001b[1;33m,\u001b[0m\u001b[1;33m\u001b[0m\u001b[1;33m\u001b[0m\u001b[0m\n",
      "\u001b[1;32m~\\.conda\\envs\\tf-gpu\\lib\\site-packages\\tensorflow\\python\\keras\\preprocessing\\image.py\u001b[0m in \u001b[0;36m__init__\u001b[1;34m(self, directory, image_data_generator, target_size, color_mode, classes, class_mode, batch_size, shuffle, seed, data_format, save_to_dir, save_prefix, save_format, follow_links, subset, interpolation, dtype)\u001b[0m\n\u001b[0;32m    379\u001b[0m         \u001b[0mdtype\u001b[0m \u001b[1;33m=\u001b[0m \u001b[0mbackend\u001b[0m\u001b[1;33m.\u001b[0m\u001b[0mfloatx\u001b[0m\u001b[1;33m(\u001b[0m\u001b[1;33m)\u001b[0m\u001b[1;33m\u001b[0m\u001b[1;33m\u001b[0m\u001b[0m\n\u001b[0;32m    380\u001b[0m       \u001b[0mkwargs\u001b[0m\u001b[1;33m[\u001b[0m\u001b[1;34m'dtype'\u001b[0m\u001b[1;33m]\u001b[0m \u001b[1;33m=\u001b[0m \u001b[0mdtype\u001b[0m\u001b[1;33m\u001b[0m\u001b[1;33m\u001b[0m\u001b[0m\n\u001b[1;32m--> 381\u001b[1;33m     super(DirectoryIterator, self).__init__(\n\u001b[0m\u001b[0;32m    382\u001b[0m         \u001b[0mdirectory\u001b[0m\u001b[1;33m,\u001b[0m \u001b[0mimage_data_generator\u001b[0m\u001b[1;33m,\u001b[0m\u001b[1;33m\u001b[0m\u001b[1;33m\u001b[0m\u001b[0m\n\u001b[0;32m    383\u001b[0m         \u001b[0mtarget_size\u001b[0m\u001b[1;33m=\u001b[0m\u001b[0mtarget_size\u001b[0m\u001b[1;33m,\u001b[0m\u001b[1;33m\u001b[0m\u001b[1;33m\u001b[0m\u001b[0m\n",
      "\u001b[1;32m~\\.conda\\envs\\tf-gpu\\lib\\site-packages\\keras_preprocessing\\image\\directory_iterator.py\u001b[0m in \u001b[0;36m__init__\u001b[1;34m(self, directory, image_data_generator, target_size, color_mode, classes, class_mode, batch_size, shuffle, seed, data_format, save_to_dir, save_prefix, save_format, follow_links, subset, interpolation, dtype)\u001b[0m\n\u001b[0;32m    113\u001b[0m         \u001b[1;32mif\u001b[0m \u001b[1;32mnot\u001b[0m \u001b[0mclasses\u001b[0m\u001b[1;33m:\u001b[0m\u001b[1;33m\u001b[0m\u001b[1;33m\u001b[0m\u001b[0m\n\u001b[0;32m    114\u001b[0m             \u001b[0mclasses\u001b[0m \u001b[1;33m=\u001b[0m \u001b[1;33m[\u001b[0m\u001b[1;33m]\u001b[0m\u001b[1;33m\u001b[0m\u001b[1;33m\u001b[0m\u001b[0m\n\u001b[1;32m--> 115\u001b[1;33m             \u001b[1;32mfor\u001b[0m \u001b[0msubdir\u001b[0m \u001b[1;32min\u001b[0m \u001b[0msorted\u001b[0m\u001b[1;33m(\u001b[0m\u001b[0mos\u001b[0m\u001b[1;33m.\u001b[0m\u001b[0mlistdir\u001b[0m\u001b[1;33m(\u001b[0m\u001b[0mdirectory\u001b[0m\u001b[1;33m)\u001b[0m\u001b[1;33m)\u001b[0m\u001b[1;33m:\u001b[0m\u001b[1;33m\u001b[0m\u001b[1;33m\u001b[0m\u001b[0m\n\u001b[0m\u001b[0;32m    116\u001b[0m                 \u001b[1;32mif\u001b[0m \u001b[0mos\u001b[0m\u001b[1;33m.\u001b[0m\u001b[0mpath\u001b[0m\u001b[1;33m.\u001b[0m\u001b[0misdir\u001b[0m\u001b[1;33m(\u001b[0m\u001b[0mos\u001b[0m\u001b[1;33m.\u001b[0m\u001b[0mpath\u001b[0m\u001b[1;33m.\u001b[0m\u001b[0mjoin\u001b[0m\u001b[1;33m(\u001b[0m\u001b[0mdirectory\u001b[0m\u001b[1;33m,\u001b[0m \u001b[0msubdir\u001b[0m\u001b[1;33m)\u001b[0m\u001b[1;33m)\u001b[0m\u001b[1;33m:\u001b[0m\u001b[1;33m\u001b[0m\u001b[1;33m\u001b[0m\u001b[0m\n\u001b[0;32m    117\u001b[0m                     \u001b[0mclasses\u001b[0m\u001b[1;33m.\u001b[0m\u001b[0mappend\u001b[0m\u001b[1;33m(\u001b[0m\u001b[0msubdir\u001b[0m\u001b[1;33m)\u001b[0m\u001b[1;33m\u001b[0m\u001b[1;33m\u001b[0m\u001b[0m\n",
      "\u001b[1;31mOSError\u001b[0m: [WinError 123] The filename, directory name, or volume label syntax is incorrect: 'F:\\x0clowers'"
     ]
    }
   ],
   "source": [
    "train_datagen = ImageDataGenerator(\n",
    "        rescale=1./255,\n",
    "        shear_range=0.2,\n",
    "        zoom_range=0.2,\n",
    "        validation_split=0.3,\n",
    "        horizontal_flip=True,\n",
    "        )\n",
    "train_generator = train_datagen.flow_from_directory(\n",
    "        'F:\\flowers',\n",
    "        target_size=(150, 150),\n",
    "        batch_size=32,\n",
    "        class_mode='categorical',\n",
    "        subset = 'training'\n",
    "        )\n",
    "validation_generator = train_datagen.flow_from_directory(\n",
    "        'F:\\flowers',\n",
    "        target_size=(150, 150),\n",
    "        batch_size=32,\n",
    "        class_mode='categorical',\n",
    "        subset = 'validation')\n"
   ]
  },
  {
   "cell_type": "code",
   "execution_count": 147,
   "metadata": {
    "id": "n0kNKV8DatIC"
   },
   "outputs": [],
   "source": [
    "#MOdels with COnv2D and Maxpooling\n",
    "model = tf.keras.models.Sequential([\n",
    "    # Note the input shape is the desired size of the image 150x150 with 3 bytes color\n",
    "    # This is the first convolution\n",
    "    tf.keras.layers.Conv2D(256, (3,3), activation='relu', input_shape=(150, 150, 3)),\n",
    "    tf.keras.layers.MaxPooling2D(2, 2),\n",
    "    # The second convolution\n",
    "    tf.keras.layers.Conv2D(256, (3,3), activation='relu'),\n",
    "    tf.keras.layers.MaxPooling2D(2,2),\n",
    "    # The third convolution\n",
    "    tf.keras.layers.Conv2D(128, (3,3), activation='relu'),\n",
    "    tf.keras.layers.MaxPooling2D(2,2),\n",
    "    # The fourth convolution\n",
    "    tf.keras.layers.Conv2D(128, (3,3), activation='relu'),\n",
    "    tf.keras.layers.MaxPooling2D(2,2),\n",
    "    # Flatten the results to feed into a DNN\n",
    "    tf.keras.layers.Flatten(),\n",
    "    tf.keras.layers.Dropout(0.5),\n",
    "    # 512 neuron hidden layer\n",
    "    tf.keras.layers.Dense(64, activation='relu'),\n",
    "    tf.keras.layers.Dense(5, activation='softmax')\n",
    "])"
   ]
  },
  {
   "cell_type": "code",
   "execution_count": 148,
   "metadata": {
    "id": "2QFL7tA4D0Sa"
   },
   "outputs": [],
   "source": [
    "model.compile(optimizer='rmsprop',\n",
    "loss='categorical_crossentropy',\n",
    "metrics=['accuracy'])"
   ]
  },
  {
   "cell_type": "code",
   "execution_count": 149,
   "metadata": {
    "id": "kBJbtQp1fhfx"
   },
   "outputs": [],
   "source": [
    "%tensorflow_version 2.x\n",
    "import tensorflow as tf"
   ]
  },
  {
   "cell_type": "code",
   "execution_count": 151,
   "metadata": {
    "colab": {
     "base_uri": "https://localhost:8080/"
    },
    "id": "mwG7_qctxUBl",
    "outputId": "ee49c2ed-275c-4a14-ddc2-d3d23bfc2c5c"
   },
   "outputs": [
    {
     "name": "stdout",
     "output_type": "stream",
     "text": [
      "Epoch 1/100\n",
      "50/50 [==============================] - 26s 496ms/step - loss: 2.1362 - accuracy: 0.2230 - val_loss: 1.9392 - val_accuracy: 0.2177\n",
      "Epoch 2/100\n",
      "50/50 [==============================] - 24s 486ms/step - loss: 1.3953 - accuracy: 0.3902 - val_loss: 1.3527 - val_accuracy: 0.4719\n",
      "Epoch 3/100\n",
      "50/50 [==============================] - 24s 478ms/step - loss: 1.2030 - accuracy: 0.4991 - val_loss: 1.2716 - val_accuracy: 0.5229\n",
      "Epoch 4/100\n",
      "50/50 [==============================] - 24s 476ms/step - loss: 1.1352 - accuracy: 0.5657 - val_loss: 1.2442 - val_accuracy: 0.5031\n",
      "Epoch 5/100\n",
      "50/50 [==============================] - 24s 473ms/step - loss: 1.1102 - accuracy: 0.5661 - val_loss: 1.0339 - val_accuracy: 0.5656\n",
      "Epoch 6/100\n",
      "50/50 [==============================] - 24s 473ms/step - loss: 0.9794 - accuracy: 0.6202 - val_loss: 1.4892 - val_accuracy: 0.6010\n",
      "Epoch 7/100\n",
      "50/50 [==============================] - 24s 477ms/step - loss: 1.0974 - accuracy: 0.6277 - val_loss: 0.9688 - val_accuracy: 0.6229\n",
      "Epoch 8/100\n",
      "50/50 [==============================] - 24s 477ms/step - loss: 0.9306 - accuracy: 0.6724 - val_loss: 1.6835 - val_accuracy: 0.3969\n",
      "Epoch 9/100\n",
      "50/50 [==============================] - 24s 477ms/step - loss: 0.9792 - accuracy: 0.6225 - val_loss: 0.9472 - val_accuracy: 0.6542\n",
      "Epoch 10/100\n",
      "50/50 [==============================] - 23s 472ms/step - loss: 0.8478 - accuracy: 0.6924 - val_loss: 0.9939 - val_accuracy: 0.6344\n",
      "Epoch 11/100\n",
      "50/50 [==============================] - 24s 474ms/step - loss: 0.8345 - accuracy: 0.6672 - val_loss: 0.8991 - val_accuracy: 0.6521\n",
      "Epoch 12/100\n",
      "50/50 [==============================] - 24s 473ms/step - loss: 0.8063 - accuracy: 0.6925 - val_loss: 0.8494 - val_accuracy: 0.6510\n",
      "Epoch 13/100\n",
      "50/50 [==============================] - 24s 473ms/step - loss: 0.8207 - accuracy: 0.6907 - val_loss: 0.8650 - val_accuracy: 0.6719\n",
      "Epoch 14/100\n",
      "50/50 [==============================] - 23s 471ms/step - loss: 0.8336 - accuracy: 0.6857 - val_loss: 0.9736 - val_accuracy: 0.6740\n",
      "Epoch 15/100\n",
      "50/50 [==============================] - 24s 475ms/step - loss: 0.8014 - accuracy: 0.7080 - val_loss: 0.8101 - val_accuracy: 0.7021\n",
      "Epoch 16/100\n",
      "50/50 [==============================] - 23s 470ms/step - loss: 0.7791 - accuracy: 0.7123 - val_loss: 0.7434 - val_accuracy: 0.7323\n",
      "Epoch 17/100\n",
      "50/50 [==============================] - 24s 473ms/step - loss: 0.7076 - accuracy: 0.7328 - val_loss: 0.9021 - val_accuracy: 0.6750\n",
      "Epoch 18/100\n",
      "50/50 [==============================] - 23s 470ms/step - loss: 0.7235 - accuracy: 0.7188 - val_loss: 1.0100 - val_accuracy: 0.6385\n",
      "Epoch 19/100\n",
      "50/50 [==============================] - 23s 469ms/step - loss: 0.7076 - accuracy: 0.7386 - val_loss: 0.9448 - val_accuracy: 0.6687\n",
      "Epoch 20/100\n",
      "50/50 [==============================] - 24s 473ms/step - loss: 0.7111 - accuracy: 0.7282 - val_loss: 1.2118 - val_accuracy: 0.6000\n",
      "Epoch 21/100\n",
      "50/50 [==============================] - 23s 468ms/step - loss: 0.7066 - accuracy: 0.7390 - val_loss: 0.8150 - val_accuracy: 0.6938\n",
      "Epoch 22/100\n",
      "50/50 [==============================] - 23s 469ms/step - loss: 0.6587 - accuracy: 0.7598 - val_loss: 0.8115 - val_accuracy: 0.7063\n",
      "Epoch 23/100\n",
      "50/50 [==============================] - 23s 472ms/step - loss: 0.6514 - accuracy: 0.7532 - val_loss: 0.8902 - val_accuracy: 0.6958\n",
      "Epoch 24/100\n",
      "50/50 [==============================] - 23s 468ms/step - loss: 0.6516 - accuracy: 0.7623 - val_loss: 0.9184 - val_accuracy: 0.6542\n",
      "Epoch 25/100\n",
      "50/50 [==============================] - 23s 466ms/step - loss: 0.6344 - accuracy: 0.7768 - val_loss: 0.7295 - val_accuracy: 0.7323\n",
      "Epoch 26/100\n",
      "50/50 [==============================] - 23s 468ms/step - loss: 0.6655 - accuracy: 0.7649 - val_loss: 0.8151 - val_accuracy: 0.7073\n",
      "Epoch 27/100\n",
      "50/50 [==============================] - 23s 465ms/step - loss: 0.6554 - accuracy: 0.7727 - val_loss: 0.9809 - val_accuracy: 0.6677\n",
      "Epoch 28/100\n",
      "50/50 [==============================] - 23s 469ms/step - loss: 0.6153 - accuracy: 0.7808 - val_loss: 0.7514 - val_accuracy: 0.7406\n",
      "Epoch 29/100\n",
      "50/50 [==============================] - 23s 465ms/step - loss: 0.5988 - accuracy: 0.7681 - val_loss: 0.8228 - val_accuracy: 0.7250\n",
      "Epoch 30/100\n",
      "50/50 [==============================] - 22s 450ms/step - loss: 0.5793 - accuracy: 0.7878 - val_loss: 0.9229 - val_accuracy: 0.7115\n",
      "Epoch 31/100\n",
      "50/50 [==============================] - 22s 452ms/step - loss: 0.5981 - accuracy: 0.7935 - val_loss: 0.8173 - val_accuracy: 0.7271\n",
      "Epoch 32/100\n",
      "50/50 [==============================] - 23s 455ms/step - loss: 0.5831 - accuracy: 0.7823 - val_loss: 0.7630 - val_accuracy: 0.7344\n",
      "Epoch 33/100\n",
      "50/50 [==============================] - 22s 449ms/step - loss: 0.5644 - accuracy: 0.8060 - val_loss: 0.8934 - val_accuracy: 0.7479\n",
      "Epoch 34/100\n",
      "50/50 [==============================] - 22s 451ms/step - loss: 0.5493 - accuracy: 0.8029 - val_loss: 0.7921 - val_accuracy: 0.7521\n",
      "Epoch 35/100\n",
      "50/50 [==============================] - 23s 456ms/step - loss: 0.5749 - accuracy: 0.8019 - val_loss: 0.8212 - val_accuracy: 0.7417\n",
      "Epoch 36/100\n",
      "50/50 [==============================] - 23s 455ms/step - loss: 0.5616 - accuracy: 0.8008 - val_loss: 0.7510 - val_accuracy: 0.7333\n",
      "Epoch 37/100\n",
      "50/50 [==============================] - 22s 452ms/step - loss: 0.5721 - accuracy: 0.7975 - val_loss: 1.0578 - val_accuracy: 0.6500\n",
      "Epoch 38/100\n",
      "50/50 [==============================] - 23s 456ms/step - loss: 0.5425 - accuracy: 0.7959 - val_loss: 0.8092 - val_accuracy: 0.7354\n",
      "Epoch 39/100\n",
      "50/50 [==============================] - 23s 456ms/step - loss: 0.4688 - accuracy: 0.8253 - val_loss: 0.9078 - val_accuracy: 0.7188\n",
      "Epoch 40/100\n",
      "50/50 [==============================] - 23s 459ms/step - loss: 0.5153 - accuracy: 0.8197 - val_loss: 0.8549 - val_accuracy: 0.7188\n",
      "Epoch 41/100\n",
      "50/50 [==============================] - 23s 467ms/step - loss: 0.5127 - accuracy: 0.8150 - val_loss: 0.8982 - val_accuracy: 0.6479\n",
      "Epoch 42/100\n",
      "50/50 [==============================] - 24s 476ms/step - loss: 0.4926 - accuracy: 0.8285 - val_loss: 0.7842 - val_accuracy: 0.7344\n",
      "Epoch 43/100\n",
      "50/50 [==============================] - 23s 472ms/step - loss: 0.4986 - accuracy: 0.8205 - val_loss: 0.8484 - val_accuracy: 0.6979\n",
      "Epoch 44/100\n",
      "50/50 [==============================] - 24s 475ms/step - loss: 0.5336 - accuracy: 0.7994 - val_loss: 0.7682 - val_accuracy: 0.7583\n",
      "Epoch 45/100\n",
      "50/50 [==============================] - 24s 478ms/step - loss: 0.4659 - accuracy: 0.8317 - val_loss: 0.8117 - val_accuracy: 0.7240\n",
      "Epoch 46/100\n",
      "50/50 [==============================] - 24s 490ms/step - loss: 0.5058 - accuracy: 0.8114 - val_loss: 0.8838 - val_accuracy: 0.7396\n",
      "Epoch 47/100\n",
      "50/50 [==============================] - 24s 492ms/step - loss: 0.4266 - accuracy: 0.8360 - val_loss: 0.9479 - val_accuracy: 0.7365\n",
      "Epoch 48/100\n",
      "50/50 [==============================] - 24s 485ms/step - loss: 0.4133 - accuracy: 0.8438 - val_loss: 0.8313 - val_accuracy: 0.7250\n",
      "Epoch 49/100\n",
      "50/50 [==============================] - 24s 490ms/step - loss: 0.4448 - accuracy: 0.8367 - val_loss: 0.8525 - val_accuracy: 0.7188\n",
      "Epoch 50/100\n",
      "50/50 [==============================] - 24s 487ms/step - loss: 0.4357 - accuracy: 0.8419 - val_loss: 0.8107 - val_accuracy: 0.7479\n",
      "Epoch 51/100\n",
      "50/50 [==============================] - 24s 483ms/step - loss: 0.4662 - accuracy: 0.8473 - val_loss: 0.8536 - val_accuracy: 0.7396\n",
      "Epoch 52/100\n",
      "50/50 [==============================] - 24s 484ms/step - loss: 0.4183 - accuracy: 0.8557 - val_loss: 0.8396 - val_accuracy: 0.7031\n",
      "Epoch 53/100\n",
      "50/50 [==============================] - 24s 479ms/step - loss: 0.4587 - accuracy: 0.8340 - val_loss: 0.9772 - val_accuracy: 0.7188\n",
      "Epoch 54/100\n",
      "50/50 [==============================] - 24s 477ms/step - loss: 0.4747 - accuracy: 0.8561 - val_loss: 1.0286 - val_accuracy: 0.7229\n",
      "Epoch 55/100\n",
      "50/50 [==============================] - 24s 482ms/step - loss: 0.4245 - accuracy: 0.8461 - val_loss: 1.0627 - val_accuracy: 0.7406\n",
      "Epoch 56/100\n",
      "50/50 [==============================] - 24s 479ms/step - loss: 0.4764 - accuracy: 0.8431 - val_loss: 1.0679 - val_accuracy: 0.6917\n",
      "Epoch 57/100\n",
      "50/50 [==============================] - 24s 474ms/step - loss: 0.4669 - accuracy: 0.8354 - val_loss: 1.0837 - val_accuracy: 0.7437\n",
      "Epoch 58/100\n",
      "50/50 [==============================] - 24s 476ms/step - loss: 0.4536 - accuracy: 0.8465 - val_loss: 0.9787 - val_accuracy: 0.7083\n",
      "Epoch 59/100\n",
      "50/50 [==============================] - 24s 475ms/step - loss: 0.4767 - accuracy: 0.8424 - val_loss: 1.1652 - val_accuracy: 0.7125\n",
      "Epoch 60/100\n",
      "50/50 [==============================] - 24s 474ms/step - loss: 0.4999 - accuracy: 0.8259 - val_loss: 0.9050 - val_accuracy: 0.7354\n",
      "Epoch 61/100\n",
      "50/50 [==============================] - 24s 475ms/step - loss: 0.4154 - accuracy: 0.8528 - val_loss: 1.0160 - val_accuracy: 0.7406\n",
      "Epoch 62/100\n",
      "50/50 [==============================] - 24s 477ms/step - loss: 0.3625 - accuracy: 0.8606 - val_loss: 0.9361 - val_accuracy: 0.7323\n",
      "Epoch 63/100\n",
      "50/50 [==============================] - 24s 475ms/step - loss: 0.4292 - accuracy: 0.8474 - val_loss: 0.8573 - val_accuracy: 0.7344\n",
      "Epoch 64/100\n",
      "50/50 [==============================] - 24s 476ms/step - loss: 0.4107 - accuracy: 0.8518 - val_loss: 1.0402 - val_accuracy: 0.7385\n",
      "Epoch 65/100\n",
      "50/50 [==============================] - 24s 475ms/step - loss: 0.4130 - accuracy: 0.8586 - val_loss: 1.0346 - val_accuracy: 0.6833\n",
      "Epoch 66/100\n",
      "50/50 [==============================] - 24s 475ms/step - loss: 0.4227 - accuracy: 0.8494 - val_loss: 0.9882 - val_accuracy: 0.7531\n",
      "Epoch 67/100\n",
      "50/50 [==============================] - 24s 475ms/step - loss: 0.3664 - accuracy: 0.8628 - val_loss: 0.7928 - val_accuracy: 0.7521\n",
      "Epoch 68/100\n",
      "50/50 [==============================] - 24s 479ms/step - loss: 0.4082 - accuracy: 0.8696 - val_loss: 1.0125 - val_accuracy: 0.7208\n",
      "Epoch 69/100\n",
      "50/50 [==============================] - 24s 476ms/step - loss: 0.3601 - accuracy: 0.8743 - val_loss: 1.0171 - val_accuracy: 0.6583\n",
      "Epoch 70/100\n",
      "50/50 [==============================] - 24s 477ms/step - loss: 0.4128 - accuracy: 0.8547 - val_loss: 1.0575 - val_accuracy: 0.7448\n",
      "Epoch 71/100\n",
      "50/50 [==============================] - 24s 476ms/step - loss: 0.3843 - accuracy: 0.8830 - val_loss: 0.8589 - val_accuracy: 0.7396\n",
      "Epoch 72/100\n",
      "50/50 [==============================] - 23s 471ms/step - loss: 0.4087 - accuracy: 0.8594 - val_loss: 1.0287 - val_accuracy: 0.7865\n",
      "Epoch 73/100\n",
      "50/50 [==============================] - 23s 473ms/step - loss: 0.3635 - accuracy: 0.8731 - val_loss: 1.1830 - val_accuracy: 0.7323\n",
      "Epoch 74/100\n",
      "50/50 [==============================] - 24s 473ms/step - loss: 0.4049 - accuracy: 0.8690 - val_loss: 0.9845 - val_accuracy: 0.7427\n",
      "Epoch 75/100\n",
      "50/50 [==============================] - 24s 477ms/step - loss: 0.3870 - accuracy: 0.8824 - val_loss: 0.9132 - val_accuracy: 0.7656\n",
      "Epoch 76/100\n",
      "50/50 [==============================] - 23s 472ms/step - loss: 0.4065 - accuracy: 0.8656 - val_loss: 1.1134 - val_accuracy: 0.6927\n",
      "Epoch 77/100\n",
      "50/50 [==============================] - 24s 477ms/step - loss: 0.4276 - accuracy: 0.8701 - val_loss: 0.9038 - val_accuracy: 0.6938\n",
      "Epoch 78/100\n",
      "50/50 [==============================] - 23s 472ms/step - loss: 0.3966 - accuracy: 0.8568 - val_loss: 1.1820 - val_accuracy: 0.7396\n",
      "Epoch 79/100\n",
      "50/50 [==============================] - 23s 471ms/step - loss: 0.4918 - accuracy: 0.8492 - val_loss: 0.8366 - val_accuracy: 0.7385\n",
      "Epoch 80/100\n",
      "50/50 [==============================] - 24s 473ms/step - loss: 0.3358 - accuracy: 0.8831 - val_loss: 1.4732 - val_accuracy: 0.7240\n",
      "Epoch 81/100\n",
      "50/50 [==============================] - 24s 478ms/step - loss: 0.4251 - accuracy: 0.8604 - val_loss: 0.9491 - val_accuracy: 0.7458\n",
      "Epoch 82/100\n",
      "50/50 [==============================] - 23s 472ms/step - loss: 0.3572 - accuracy: 0.8607 - val_loss: 1.2110 - val_accuracy: 0.6438\n",
      "Epoch 83/100\n",
      "50/50 [==============================] - 23s 469ms/step - loss: 0.4150 - accuracy: 0.8556 - val_loss: 1.2351 - val_accuracy: 0.7177\n",
      "Epoch 84/100\n",
      "50/50 [==============================] - 23s 466ms/step - loss: 0.3937 - accuracy: 0.8701 - val_loss: 0.9246 - val_accuracy: 0.7198\n",
      "Epoch 85/100\n",
      "50/50 [==============================] - 23s 464ms/step - loss: 0.4070 - accuracy: 0.8693 - val_loss: 0.9140 - val_accuracy: 0.7427\n",
      "Epoch 86/100\n",
      "50/50 [==============================] - 23s 466ms/step - loss: 0.3658 - accuracy: 0.8799 - val_loss: 0.7930 - val_accuracy: 0.7552\n",
      "Epoch 87/100\n",
      "50/50 [==============================] - 23s 462ms/step - loss: 0.3307 - accuracy: 0.8777 - val_loss: 0.9428 - val_accuracy: 0.7479\n",
      "Epoch 88/100\n",
      "50/50 [==============================] - 23s 468ms/step - loss: 0.3900 - accuracy: 0.8609 - val_loss: 1.5782 - val_accuracy: 0.6708\n",
      "Epoch 89/100\n",
      "50/50 [==============================] - 23s 466ms/step - loss: 0.4315 - accuracy: 0.8676 - val_loss: 0.9377 - val_accuracy: 0.7594\n",
      "Epoch 90/100\n",
      "50/50 [==============================] - 23s 463ms/step - loss: 0.3380 - accuracy: 0.8778 - val_loss: 1.4245 - val_accuracy: 0.7083\n",
      "Epoch 91/100\n",
      "50/50 [==============================] - 23s 460ms/step - loss: 0.3947 - accuracy: 0.8579 - val_loss: 0.9424 - val_accuracy: 0.7615\n",
      "Epoch 92/100\n",
      "50/50 [==============================] - 23s 462ms/step - loss: 0.3651 - accuracy: 0.8749 - val_loss: 1.0858 - val_accuracy: 0.7406\n",
      "Epoch 93/100\n",
      "50/50 [==============================] - 23s 457ms/step - loss: 0.4563 - accuracy: 0.8411 - val_loss: 1.3631 - val_accuracy: 0.7188\n",
      "Epoch 94/100\n",
      "50/50 [==============================] - 23s 459ms/step - loss: 0.4535 - accuracy: 0.8773 - val_loss: 1.3468 - val_accuracy: 0.6469\n",
      "Epoch 95/100\n",
      "50/50 [==============================] - 23s 462ms/step - loss: 0.4268 - accuracy: 0.8631 - val_loss: 0.9685 - val_accuracy: 0.7521\n",
      "Epoch 96/100\n",
      "50/50 [==============================] - 23s 461ms/step - loss: 0.3813 - accuracy: 0.8682 - val_loss: 1.0413 - val_accuracy: 0.7458\n",
      "Epoch 97/100\n",
      "50/50 [==============================] - 23s 466ms/step - loss: 0.3798 - accuracy: 0.8765 - val_loss: 0.9938 - val_accuracy: 0.7271\n",
      "Epoch 98/100\n",
      "50/50 [==============================] - 23s 466ms/step - loss: 0.3867 - accuracy: 0.8723 - val_loss: 1.3178 - val_accuracy: 0.7552\n",
      "Epoch 99/100\n",
      "50/50 [==============================] - 23s 462ms/step - loss: 0.3399 - accuracy: 0.8898 - val_loss: 1.0650 - val_accuracy: 0.7458\n",
      "Epoch 100/100\n",
      "50/50 [==============================] - 23s 466ms/step - loss: 0.3753 - accuracy: 0.8811 - val_loss: 2.1611 - val_accuracy: 0.7167\n"
     ]
    }
   ],
   "source": [
    "with tf.device('/device:GPU:0'):\n",
    "  model.fit(\n",
    "          train_generator,\n",
    "          steps_per_epoch=50,\n",
    "          epochs=100,\n",
    "          validation_data=validation_generator,\n",
    "          validation_steps=30)"
   ]
  },
  {
   "cell_type": "code",
   "execution_count": 153,
   "metadata": {
    "colab": {
     "base_uri": "https://localhost:8080/"
    },
    "id": "kAMVOUBUhcj9",
    "outputId": "18a36441-c92e-4e83-95cb-64b520c038ea"
   },
   "outputs": [
    {
     "name": "stdout",
     "output_type": "stream",
     "text": [
      "41/41 [==============================] - 12s 285ms/step - loss: 2.1294 - accuracy: 0.7097\n"
     ]
    },
    {
     "data": {
      "text/plain": [
       "[2.129361152648926, 0.7096524834632874]"
      ]
     },
     "execution_count": 153,
     "metadata": {
      "tags": []
     },
     "output_type": "execute_result"
    }
   ],
   "source": [
    "model.evaluate(validation_generator)"
   ]
  }
 ],
 "metadata": {
  "accelerator": "GPU",
  "colab": {
   "collapsed_sections": [],
   "name": "flowerclassification.ipynb",
   "provenance": []
  },
  "kernelspec": {
   "display_name": "Python 3",
   "language": "python",
   "name": "python3"
  },
  "language_info": {
   "codemirror_mode": {
    "name": "ipython",
    "version": 3
   },
   "file_extension": ".py",
   "mimetype": "text/x-python",
   "name": "python",
   "nbconvert_exporter": "python",
   "pygments_lexer": "ipython3",
   "version": "3.8.8"
  }
 },
 "nbformat": 4,
 "nbformat_minor": 1
}
